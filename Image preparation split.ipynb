{
 "cells": [
  {
   "cell_type": "code",
   "execution_count": 1,
   "id": "a8edb1e0",
   "metadata": {},
   "outputs": [],
   "source": [
    "import os\n",
    "import numpy as np\n",
    "from datetime import datetime\n",
    "from skimage.io import imread\n",
    "from matplotlib.pyplot import imshow, imsave\n",
    "from tqdm.notebook import tqdm\n",
    "import matplotlib.pyplot as plt"
   ]
  },
  {
   "cell_type": "code",
   "execution_count": 2,
   "id": "6e928ece",
   "metadata": {},
   "outputs": [],
   "source": [
    "side_1 = 900\n",
    "centers_1 = {\n",
    "    \"lettuce5\": (1720, 470),\n",
    "    \"lettuce6\": (1000, 880), \n",
    "    \"lettuce7\": (1770, 1390),\n",
    "    \"lettuce8\": (1000, 1860),\n",
    "    \"lettuce1\": (950, 2730),\n",
    "    \"lettuce2\": (1780, 3130),\n",
    "    \"lettuce3\": (900, 3640),\n",
    "    \"lettuce4\": (1800, 4100)\n",
    "}\n",
    "side_2 = 700\n",
    "centers_2 = {\n",
    "    \"lettuce1\": (910, 1020),\n",
    "    \"lettuce2\": (1600, 1290), \n",
    "    \"lettuce3\": (950, 1700),\n",
    "    \"lettuce4\": (1650, 1960),\n",
    "    \"lettuce5\": (1670, 2600),\n",
    "    \"lettuce6\": (1020, 2850),\n",
    "    \"lettuce7\": (1750, 3250),\n",
    "    \"lettuce8\": (1120, 3680)\n",
    "}\n",
    "\n",
    "breakpoint = datetime(year=2024, month=7, day=4, hour=15)"
   ]
  },
  {
   "cell_type": "code",
   "execution_count": 3,
   "id": "3fd85c44",
   "metadata": {},
   "outputs": [],
   "source": [
    "read_folder = \"images\"\n",
    "write_folder = \"preprocessed_images\""
   ]
  },
  {
   "cell_type": "code",
   "execution_count": 4,
   "id": "ec4fffa2",
   "metadata": {},
   "outputs": [
    {
     "data": {
      "application/vnd.jupyter.widget-view+json": {
       "model_id": "24db170d49cb496fa34034eff1fd753a",
       "version_major": 2,
       "version_minor": 0
      },
      "text/plain": [
       "  0%|          | 0/1005 [00:00<?, ?it/s]"
      ]
     },
     "metadata": {},
     "output_type": "display_data"
    }
   ],
   "source": [
    "side = side_1\n",
    "centers = centers_1\n",
    "\n",
    "for filename in tqdm(os.listdir(read_folder)):\n",
    "    # Split the filename by \"_\" and extract the required components\n",
    "    plant_name, date_components, time_components = filename.split(\"_\")\n",
    "    year, month, dom = [int(p) for p in date_components.split(\"-\")]\n",
    "    hour = int(time_components.split(\"%\")[0])\n",
    "    timestamp = datetime(year=year, month=month, day=dom, hour=hour)\n",
    "\n",
    "    # Read the image\n",
    "    read_path = os.path.join(read_folder, filename)\n",
    "    im = imread(read_path)\n",
    "    \n",
    "    if timestamp > breakpoint:\n",
    "        side = side_2\n",
    "        centers = centers_2\n",
    "    for i in range(1, 9):\n",
    "        y, x = centers[f\"lettuce{i}\"]\n",
    "        plant_img = im[y - side // 2:y + side // 2, x - side // 2:x + side // 2, :]\n",
    "        \n",
    "        plant_img_name = f\"lettuce{i}_\" + timestamp.strftime(\"%Y-%m-%d_%H\") + \".jpg\"\n",
    "        write_path = os.path.join(write_folder, plant_img_name)\n",
    "        imsave(write_path, plant_img)"
   ]
  },
  {
   "cell_type": "code",
   "execution_count": 5,
   "id": "11104038",
   "metadata": {},
   "outputs": [],
   "source": [
    "# side = 900\n",
    "# y, x = 1800, 4100\n",
    "\n",
    "# img = np.copy(im)\n",
    "# for i in range(-10, 11):\n",
    "#     for j in range(-10, 11):\n",
    "#         img[y + i][x + j] = 255\n",
    "# imshow(img[y - side // 2:y + side // 2, x - side // 2:x + side // 2, :])"
   ]
  }
 ],
 "metadata": {
  "kernelspec": {
   "display_name": "Python 3 (ipykernel)",
   "language": "python",
   "name": "python3"
  },
  "language_info": {
   "codemirror_mode": {
    "name": "ipython",
    "version": 3
   },
   "file_extension": ".py",
   "mimetype": "text/x-python",
   "name": "python",
   "nbconvert_exporter": "python",
   "pygments_lexer": "ipython3",
   "version": "3.11.4"
  }
 },
 "nbformat": 4,
 "nbformat_minor": 5
}
