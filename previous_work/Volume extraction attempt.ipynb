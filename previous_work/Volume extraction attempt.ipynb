{
 "cells": [
  {
   "cell_type": "code",
   "execution_count": 2,
   "id": "62a6db9b",
   "metadata": {},
   "outputs": [
    {
     "name": "stdout",
     "output_type": "stream",
     "text": [
      "Intel MKL WARNING: Support of Intel(R) Streaming SIMD Extensions 4.2 (Intel(R) SSE4.2) enabled only processors has been deprecated. Intel oneAPI Math Kernel Library 2025.0 will require Intel(R) Advanced Vector Extensions (Intel(R) AVX) instructions.\n",
      "Intel MKL WARNING: Support of Intel(R) Streaming SIMD Extensions 4.2 (Intel(R) SSE4.2) enabled only processors has been deprecated. Intel oneAPI Math Kernel Library 2025.0 will require Intel(R) Advanced Vector Extensions (Intel(R) AVX) instructions.\n"
     ]
    }
   ],
   "source": [
    "import open3d as o3d\n",
    "import math\n",
    "import numpy as np\n",
    "import itertools\n",
    "from scipy.spatial import Delaunay\n",
    "from functools import reduce"
   ]
  },
  {
   "cell_type": "markdown",
   "id": "639fccca",
   "metadata": {},
   "source": [
    "From txt to ply and visualize pointcloud"
   ]
  },
  {
   "cell_type": "code",
   "execution_count": 3,
   "id": "2844e979",
   "metadata": {
    "scrolled": true
   },
   "outputs": [
    {
     "name": "stdout",
     "output_type": "stream",
     "text": [
      "\u001b[1;33m[Open3D WARNING] Write PLY failed: point cloud has 0 points.\u001b[0;m\n",
      "\u001b[1;33m[Open3D WARNING] GLFW Error: Cocoa: Failed to find service port for display\u001b[0;m\n",
      "\u001b[1;33m[Open3D WARNING] The number of points is 0 when creating axis-aligned bounding box.\u001b[0;m\n"
     ]
    }
   ],
   "source": [
    "pcd = o3d.io.read_point_cloud(\"daylight_preprocessed_images/lettuce1_2024-07-15_09.jpg\", format='xyz')\n",
    "o3d.io.write_point_cloud(\"output.ply\", pcd)\n",
    "o3d.visualization.draw_geometries([pcd]) "
   ]
  },
  {
   "cell_type": "markdown",
   "id": "35030d01",
   "metadata": {},
   "source": [
    "Visualize also cartesian axis (x red, y green, z blue)"
   ]
  },
  {
   "cell_type": "code",
   "execution_count": 13,
   "id": "f2f1c5b6",
   "metadata": {},
   "outputs": [],
   "source": [
    "axes = o3d.geometry.TriangleMesh.create_coordinate_frame(size=0.5)\n",
    "o3d.visualization.draw_geometries([pcd, axes])"
   ]
  },
  {
   "cell_type": "markdown",
   "id": "6546668a",
   "metadata": {},
   "source": [
    "Ground segmentation"
   ]
  },
  {
   "cell_type": "code",
   "execution_count": 14,
   "id": "8727ecc7",
   "metadata": {},
   "outputs": [],
   "source": [
    "plane_model, inliers = pcd.segment_plane(distance_threshold=0.02, #find the plane with the largest support\n",
    "                                         ransac_n=3,\n",
    "                                         num_iterations=10000)\n",
    "[a, b, c, d] = plane_model\n",
    "plane_pcd = pcd.select_by_index(inliers) #select points by index\n",
    "plane_pcd.paint_uniform_color([1.0, 0, 0])\n",
    "lettuce_pcd = pcd.select_by_index(inliers, invert=True) #all except ground\n",
    "lettuce_pcd.paint_uniform_color([0, 0, 1.0]) #paint with different colors lettuce and grounds\n",
    "o3d.visualization.draw_geometries([plane_pcd, axes, lettuce_pcd])"
   ]
  },
  {
   "cell_type": "markdown",
   "id": "3df796a8",
   "metadata": {},
   "source": [
    "Centering the axes with the pointcloud"
   ]
  },
  {
   "cell_type": "code",
   "execution_count": 15,
   "id": "1a81d7c6",
   "metadata": {
    "scrolled": true
   },
   "outputs": [],
   "source": [
    "plane_pcd = plane_pcd.translate((0,0,d/c)) #where ax+by+cz+d=0 is the plane\n",
    "lettuce_pcd = lettuce_pcd.translate((0,0,d/c))\n",
    "cos_theta = c / math.sqrt(a**2 + b**2 + c**2)\n",
    "sin_theta = math.sqrt((a**2+b**2)/(a**2 + b**2 + c**2))\n",
    "u_1 = b / math.sqrt(a**2 + b**2 )\n",
    "u_2 = -a / math.sqrt(a**2 + b**2)\n",
    "rotation_matrix = np.array([[cos_theta + u_1**2 * (1-cos_theta), u_1*u_2*(1-cos_theta), u_2*sin_theta],\n",
    "                            [u_1*u_2*(1-cos_theta), cos_theta + u_2**2*(1- cos_theta), -u_1*sin_theta],\n",
    "                            [-u_2*sin_theta, u_1*sin_theta, cos_theta]])\n",
    "plane_pcd.rotate(rotation_matrix)\n",
    "lettuce_pcd.rotate(rotation_matrix)\n",
    "o3d.visualization.draw_geometries([plane_pcd, lettuce_pcd, axes])"
   ]
  },
  {
   "cell_type": "markdown",
   "id": "a7e026cf",
   "metadata": {},
   "source": [
    "Isolate one plant "
   ]
  },
  {
   "cell_type": "code",
   "execution_count": 18,
   "id": "829a6da4",
   "metadata": {},
   "outputs": [
    {
     "name": "stdout",
     "output_type": "stream",
     "text": [
      "[Open3D WARNING] GLFW Error: WGL: Failed to make context current: Handle non valido. \n"
     ]
    }
   ],
   "source": [
    "bounds = [[-0.3, 0.3], [0, 0.55], [0, -2]]\n",
    "bounding_box_points = list(itertools.product(*bounds))\n",
    "bounding_box = o3d.geometry.AxisAlignedBoundingBox.create_from_points(\n",
    "        o3d.utility.Vector3dVector(bounding_box_points))\n",
    "lettuce_croped = lettuce_pcd.crop(bounding_box)\n",
    "o3d.visualization.draw_geometries([lettuce_croped])"
   ]
  },
  {
   "cell_type": "markdown",
   "id": "7b3681ea",
   "metadata": {},
   "source": [
    "Remove outliers"
   ]
  },
  {
   "cell_type": "code",
   "execution_count": 21,
   "id": "05b730cf",
   "metadata": {},
   "outputs": [],
   "source": [
    "cl, ind = lettuce_croped.remove_statistical_outlier(nb_neighbors=60,\n",
    "                                                    std_ratio=2.0)\n",
    "lettuce_croped = lettuce_croped.select_by_index(ind)\n",
    "o3d.visualization.draw_geometries([lettuce_croped])"
   ]
  },
  {
   "cell_type": "markdown",
   "id": "750b393f",
   "metadata": {},
   "source": [
    "Define a mesh to simmulate the surface"
   ]
  },
  {
   "cell_type": "code",
   "execution_count": 23,
   "id": "432e266e",
   "metadata": {},
   "outputs": [],
   "source": [
    "downpdc = lettuce_croped.voxel_down_sample(voxel_size=0.05)\n",
    "xyz = np.asarray(downpdc.points)\n",
    "xy_catalog = []\n",
    "for point in xyz:\n",
    "    xy_catalog.append([point[0], point[1]])\n",
    "tri = Delaunay(np.array(xy_catalog))"
   ]
  },
  {
   "cell_type": "code",
   "execution_count": 24,
   "id": "c06b1987",
   "metadata": {},
   "outputs": [],
   "source": [
    "surface = o3d.geometry.TriangleMesh()\n",
    "surface.vertices = o3d.utility.Vector3dVector(xyz)\n",
    "surface.triangles = o3d.utility.Vector3iVector(tri.simplices)\n",
    "o3d.visualization.draw_geometries([surface], mesh_show_wireframe=True)"
   ]
  },
  {
   "cell_type": "code",
   "execution_count": 25,
   "id": "1690b128",
   "metadata": {},
   "outputs": [],
   "source": [
    "def get_triangles_vertices(triangles, vertices):\n",
    "    triangles_vertices = []\n",
    "    for triangle in triangles:\n",
    "        new_triangles_vertices = [vertices[triangle[0]], vertices[triangle[1]], vertices[triangle[2]]]\n",
    "        triangles_vertices.append(new_triangles_vertices)\n",
    "    return np.array(triangles_vertices)"
   ]
  },
  {
   "cell_type": "code",
   "execution_count": 26,
   "id": "9b57f9bf",
   "metadata": {},
   "outputs": [],
   "source": [
    "def volume_under_triangle(triangle):\n",
    "    p1, p2, p3 = triangle\n",
    "    x1, y1, z1 = p1\n",
    "    x2, y2, z2 = p2\n",
    "    x3, y3, z3 = p3\n",
    "    return abs((z1+z2+z3)*(x1*y2-x2*y1+x2*y3-x3*y2+x3*y1-x1*y3)/6)"
   ]
  },
  {
   "cell_type": "markdown",
   "id": "ada9bb46",
   "metadata": {},
   "source": [
    "Estimate the Volume"
   ]
  },
  {
   "cell_type": "code",
   "execution_count": 27,
   "id": "f7f57e8c",
   "metadata": {},
   "outputs": [
    {
     "name": "stdout",
     "output_type": "stream",
     "text": [
      "The volume is: 0.0013 m3\n"
     ]
    }
   ],
   "source": [
    "volume = reduce(lambda a, b:  a + volume_under_triangle(b), get_triangles_vertices(surface.triangles, surface.vertices), 0)\n",
    "print(f\"The volume is: {round(volume, 4)} m3\")"
   ]
  }
 ],
 "metadata": {
  "kernelspec": {
   "display_name": "Python 3 (ipykernel)",
   "language": "python",
   "name": "python3"
  },
  "language_info": {
   "codemirror_mode": {
    "name": "ipython",
    "version": 3
   },
   "file_extension": ".py",
   "mimetype": "text/x-python",
   "name": "python",
   "nbconvert_exporter": "python",
   "pygments_lexer": "ipython3",
   "version": "3.11.0"
  }
 },
 "nbformat": 4,
 "nbformat_minor": 5
}
